{
 "cells": [
  {
   "cell_type": "code",
   "execution_count": null,
   "id": "122067c4",
   "metadata": {},
   "outputs": [],
   "source": [
    "#import some libraries\n",
    "import kagglehub\n",
    "import pandas as pd\n",
    "import numpy as np\n",
    "import matplotlib.pyplot as plt\n",
    "import seaborn as sns\n",
    "from sklearn.model_selection import train_test_split, cross_val_score\n",
    "from sklearn.preprocessing import LabelEncoder, StandardScaler\n",
    "from sklearn.ensemble import RandomForestClassifier\n",
    "from xgboost import XGBClassifier\n",
    "from sklearn.metrics import classification_report, confusion_matrix, roc_auc_score, roc_curve\n",
    "import warnings\n",
    "warnings.filterwarnings('ignore')\n",
    "# Download latest version\n",
    "path = kagglehub.dataset_download(\"blastchar/telco-customer-churn\")\n",
    "print(\"Path to dataset files:\", path)"
   ]
  },
  {
   "cell_type": "code",
   "execution_count": null,
   "id": "bfa56365",
   "metadata": {},
   "outputs": [],
   "source": [
    "# config visualization\n",
    "plt.style.use('ggplot')\n",
    "sns.set_palette(\"Set2\")\n",
    "%matplotlib inline"
   ]
  },
  {
   "cell_type": "code",
   "execution_count": null,
   "id": "78baeb5f",
   "metadata": {},
   "outputs": [],
   "source": [
    "#Check the download folder's content.\n",
    "import os\n",
    "#list all files \n",
    "print(os.listdir(path))"
   ]
  },
  {
   "cell_type": "code",
   "execution_count": null,
   "id": "0d59ab41",
   "metadata": {},
   "outputs": [],
   "source": [
    "#Use pandas for read the file \n",
    "import pandas as pd\n",
    "#Build the full path to the CSV file\n",
    "csv_path = os.path.join(path,\"WA_Fn-UseC_-Telco-Customer-Churn.csv\")\n",
    "df = pd.read_csv(csv_path)\n",
    "df.head()#check the data "
   ]
  },
  {
   "cell_type": "markdown",
   "id": "7f8d6e5a",
   "metadata": {},
   "source": [
    "## 2. ANÁLISIS EXPLORATORIO DE DATOS (EDA)"
   ]
  },
  {
   "cell_type": "code",
   "execution_count": null,
   "id": "0bac5dae",
   "metadata": {},
   "outputs": [],
   "source": [
    "\n",
    "# basic information \n",
    "print(df.info())"
   ]
  },
  {
   "cell_type": "code",
   "execution_count": null,
   "id": "de6e1ed3",
   "metadata": {},
   "outputs": [],
   "source": [
    "# Descriptive statistic\n",
    "print(df.describe())\n"
   ]
  },
  {
   "cell_type": "code",
   "execution_count": null,
   "id": "6a2d7037",
   "metadata": {},
   "outputs": [],
   "source": [
    "# Check null values\n",
    "print(\"Null value per columns:\")\n",
    "print(df.isnull().sum())"
   ]
  },
  {
   "cell_type": "code",
   "execution_count": null,
   "id": "527ee7bc",
   "metadata": {},
   "outputs": [],
   "source": [
    "#Checking unique categorical values \n",
    "print('Unique categorical values on columns')\n",
    "categorical_cols = df.select_dtypes(include=[\"object\"]).columns\n",
    "for col in categorical_cols:\n",
    "    print(f\"{col}: {df[col].unique()}\")\n",
    "    print(\"-\" * 30)"
   ]
  },
  {
   "cell_type": "code",
   "execution_count": null,
   "id": "fa00105d",
   "metadata": {},
   "outputs": [
    {
     "name": "stdout",
     "output_type": "stream",
     "text": [
      "null values in Total Changes is:11\n"
     ]
    }
   ],
   "source": [
    "#convert TotalChange to numeric\n",
    "df['TotalCharges'] = pd.to_numeric(df['TotalCharges'] ,errors='coerce')\n",
    "\n",
    "#check the null values after \n",
    "print(f\"null values in Total Changes is:{df['TotalCharges'].isnull().sum()}\")\n"
   ]
  },
  {
   "cell_type": "code",
   "execution_count": 17,
   "id": "a9ce5573",
   "metadata": {},
   "outputs": [],
   "source": [
    "#Eliminate the nan values\n",
    "df = df.dropna()"
   ]
  }
 ],
 "metadata": {
  "kernelspec": {
   "display_name": "Python 3",
   "language": "python",
   "name": "python3"
  },
  "language_info": {
   "codemirror_mode": {
    "name": "ipython",
    "version": 3
   },
   "file_extension": ".py",
   "mimetype": "text/x-python",
   "name": "python",
   "nbconvert_exporter": "python",
   "pygments_lexer": "ipython3",
   "version": "3.12.6"
  }
 },
 "nbformat": 4,
 "nbformat_minor": 5
}
